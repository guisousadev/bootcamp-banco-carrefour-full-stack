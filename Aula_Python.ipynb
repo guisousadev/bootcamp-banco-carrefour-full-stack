{
  "nbformat": 4,
  "nbformat_minor": 0,
  "metadata": {
    "colab": {
      "name": "Aula Python",
      "provenance": [],
      "authorship_tag": "ABX9TyMBF5G13nTiIVCRouJrxcQO",
      "include_colab_link": true
    },
    "kernelspec": {
      "name": "python3",
      "display_name": "Python 3"
    }
  },
  "cells": [
    {
      "cell_type": "markdown",
      "metadata": {
        "id": "view-in-github",
        "colab_type": "text"
      },
      "source": [
        "<a href=\"https://colab.research.google.com/github/guisousadev/bootcamp-banco-carrefour-full-stack/blob/master/Aula_Python.ipynb\" target=\"_parent\"><img src=\"https://colab.research.google.com/assets/colab-badge.svg\" alt=\"Open In Colab\"/></a>"
      ]
    },
    {
      "cell_type": "code",
      "metadata": {
        "id": "vubhHUkvwFzI",
        "colab_type": "code",
        "colab": {}
      },
      "source": [
        "idade = 30\n"
      ],
      "execution_count": null,
      "outputs": []
    },
    {
      "cell_type": "code",
      "metadata": {
        "id": "S_qJHgNeXbWV",
        "colab_type": "code",
        "colab": {}
      },
      "source": [
        "def mais_um_ano(idade):\n",
        "    return idade + 1;\n"
      ],
      "execution_count": null,
      "outputs": []
    },
    {
      "cell_type": "code",
      "metadata": {
        "id": "qSp_w9jUYBr9",
        "colab_type": "code",
        "colab": {
          "base_uri": "https://localhost:8080/",
          "height": 34
        },
        "outputId": "7d098c61-775e-40e8-b0a6-8554fbc9c855"
      },
      "source": [
        "mais_um_ano(43)\n"
      ],
      "execution_count": null,
      "outputs": [
        {
          "output_type": "execute_result",
          "data": {
            "text/plain": [
              "44"
            ]
          },
          "metadata": {
            "tags": []
          },
          "execution_count": 6
        }
      ]
    },
    {
      "cell_type": "code",
      "metadata": {
        "id": "86VQLJZkZooO",
        "colab_type": "code",
        "colab": {
          "base_uri": "https://localhost:8080/",
          "height": 34
        },
        "outputId": "939fb439-579a-4061-a64e-0977cd25acf0"
      },
      "source": [
        "filmes = [\"Matrix\", \"Senhor dos Anéis\", \"Harry Potter e a Pedra Filosofal\"]\n",
        "filmes\n"
      ],
      "execution_count": null,
      "outputs": [
        {
          "output_type": "execute_result",
          "data": {
            "text/plain": [
              "['Matrix', 'Senhor dos Anéis', 'Harry Potter e a Pedra Filosofal']"
            ]
          },
          "metadata": {
            "tags": []
          },
          "execution_count": 7
        }
      ]
    },
    {
      "cell_type": "code",
      "metadata": {
        "id": "HslNfE7Ma1XR",
        "colab_type": "code",
        "colab": {
          "base_uri": "https://localhost:8080/",
          "height": 35
        },
        "outputId": "0bb24131-b11d-4010-92f0-adad24e7ab7d"
      },
      "source": [
        "filmes[0]"
      ],
      "execution_count": null,
      "outputs": [
        {
          "output_type": "execute_result",
          "data": {
            "application/vnd.google.colaboratory.intrinsic+json": {
              "type": "string"
            },
            "text/plain": [
              "'Matrix'"
            ]
          },
          "metadata": {
            "tags": []
          },
          "execution_count": 8
        }
      ]
    },
    {
      "cell_type": "code",
      "metadata": {
        "id": "mQ5Ls3rVbtym",
        "colab_type": "code",
        "colab": {
          "base_uri": "https://localhost:8080/",
          "height": 68
        },
        "outputId": "5696c74a-6073-4001-953d-7f4c2a30cb9a"
      },
      "source": [
        "for filme in filmes:\n",
        "  print(filme)"
      ],
      "execution_count": null,
      "outputs": [
        {
          "output_type": "stream",
          "text": [
            "Matrix\n",
            "Senhor dos Anéis\n",
            "Harry Potter e a Pedra Filosofal\n"
          ],
          "name": "stdout"
        }
      ]
    }
  ]
}